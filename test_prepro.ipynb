{
 "cells": [
  {
   "cell_type": "code",
   "execution_count": null,
   "metadata": {},
   "outputs": [
    {
     "name": "stderr",
     "output_type": "stream",
     "text": [
      "[nltk_data] Downloading package stopwords to\n",
      "[nltk_data]     C:\\Users\\hp\\AppData\\Roaming\\nltk_data...\n",
      "[nltk_data]   Package stopwords is already up-to-date!\n"
     ]
    },
    {
     "name": "stdout",
     "output_type": "stream",
     "text": [
      "Preprocessed test data saved as 'test_prepro.csv'\n",
      "Tokenizer file not found. Fitting a new tokenizer on 'train_prepro.csv'.\n",
      "New tokenizer fitted and saved as 'tokenizer.pickle'\n",
      "Shape of tokenized and padded test data: (4957, 100)\n"
     ]
    }
   ],
   "source": [
    "import os\n",
    "import re\n",
    "import string\n",
    "import pickle\n",
    "import pandas as pd\n",
    "import numpy as np\n",
    "import nltk\n",
    "from tensorflow.keras.preprocessing.sequence import pad_sequences\n",
    "from tensorflow.keras.preprocessing.text import Tokenizer\n",
    "from nltk.corpus import stopwords\n",
    "\n",
    "# Download stopwords if not already available\n",
    "nltk.download('stopwords')\n",
    "stop_words = set(stopwords.words('english'))\n",
    "\n",
    "def clean_text(text):\n",
    "    \"\"\"\n",
    "    Clean the input text by:\n",
    "      - Removing URLs.\n",
    "      - Removing punctuation.\n",
    "      - Converting text to lowercase.\n",
    "      - Removing stopwords.\n",
    "      - Removing extra spaces.\n",
    "    \"\"\"\n",
    "    # Remove URLs\n",
    "    text = re.sub(r'http\\S+|www\\S+', '', text)\n",
    "    # Remove punctuation\n",
    "    text = text.translate(str.maketrans('', '', string.punctuation))\n",
    "    # Convert to lowercase\n",
    "    text = text.lower()\n",
    "    # Remove stopwords\n",
    "    tokens = text.split()\n",
    "    tokens = [word for word in tokens if word not in stop_words]\n",
    "    # Join tokens back to a single string\n",
    "    cleaned_text = \" \".join(tokens)\n",
    "    return cleaned_text\n",
    "\n",
    "\n",
    "test_df = pd.read_csv(r'C:\\Users\\hp\\Downloads\\nlp ass2\\test (2).csv')\n",
    "\n",
    "test_df['clean_tweet'] = test_df['tweet'].apply(clean_text)\n",
    "\n",
    "test_df_prepro = test_df[['tweet', 'clean_tweet']].copy()\n",
    "\n",
    "test_df_prepro.to_csv('test_prepro.csv', index=False)\n",
    "print(\"Preprocessed test data saved as 'test_prepro.csv'\")\n",
    "\n",
    "\n",
    "tokenizer_filename = 'tokenizer.pickle'\n",
    "max_words = 10000  \n",
    "max_len = 100      \n",
    "\n",
    "if os.path.exists(tokenizer_filename):\n",
    "    with open(tokenizer_filename, 'rb') as handle:\n",
    "        tokenizer = pickle.load(handle)\n",
    "    print(\"Loaded tokenizer from '{}'\".format(tokenizer_filename))\n",
    "else:\n",
    "    print(\"Tokenizer file not found. Fitting a new tokenizer on 'train_prepro.csv'.\")\n",
    "    train_df_prepro = pd.read_csv('train_prepro.csv')  \n",
    "    tokenizer = Tokenizer(num_words=max_words)\n",
    "    tokenizer.fit_on_texts(train_df_prepro['clean_tweet'])\n",
    "    with open(tokenizer_filename, 'wb') as handle:\n",
    "        pickle.dump(tokenizer, handle, protocol=pickle.HIGHEST_PROTOCOL)\n",
    "    print(\"New tokenizer fitted and saved as '{}'\".format(tokenizer_filename))\n",
    "\n",
    "sequences_test = tokenizer.texts_to_sequences(test_df_prepro['clean_tweet'])\n",
    "\n",
    "X_test = pad_sequences(sequences_test, maxlen=max_len)\n",
    "\n",
    "print(\"Shape of tokenized and padded test data:\", X_test.shape)\n"
   ]
  },
  {
   "cell_type": "code",
   "execution_count": null,
   "metadata": {},
   "outputs": [
    {
     "name": "stdout",
     "output_type": "stream",
     "text": [
      "Class distribution in training data:\n",
      "class\n",
      "1    0.774639\n",
      "2    0.167860\n",
      "0    0.057500\n",
      "Name: proportion, dtype: float64\n"
     ]
    }
   ],
   "source": [
    "print(\"Class distribution in training data:\")\n",
    "print(train_df_prepro['class'].value_counts(normalize=True))"
   ]
  }
 ],
 "metadata": {
  "kernelspec": {
   "display_name": "Python 3",
   "language": "python",
   "name": "python3"
  },
  "language_info": {
   "codemirror_mode": {
    "name": "ipython",
    "version": 3
   },
   "file_extension": ".py",
   "mimetype": "text/x-python",
   "name": "python",
   "nbconvert_exporter": "python",
   "pygments_lexer": "ipython3",
   "version": "3.12.4"
  }
 },
 "nbformat": 4,
 "nbformat_minor": 2
}
